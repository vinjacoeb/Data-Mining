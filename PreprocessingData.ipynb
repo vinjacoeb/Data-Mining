{
  "nbformat": 4,
  "nbformat_minor": 0,
  "metadata": {
    "colab": {
      "provenance": []
    },
    "kernelspec": {
      "name": "python3",
      "display_name": "Python 3"
    },
    "language_info": {
      "name": "python"
    }
  },
  "cells": [
    {
      "cell_type": "code",
      "execution_count": 1,
      "metadata": {
        "id": "OOpRUkVAzdK-"
      },
      "outputs": [],
      "source": [
        "import numpy as np\n",
        "import matplotlib.pyplot as plt\n",
        "import pandas as pd"
      ]
    },
    {
      "cell_type": "code",
      "source": [
        "dataset = pd.read_csv('Data.csv', sep=\";\")\n",
        "x = dataset.iloc[:, :-1].values\n",
        "y = dataset.iloc[:, -1].values"
      ],
      "metadata": {
        "id": "JEtxJmgV99fx"
      },
      "execution_count": 21,
      "outputs": []
    },
    {
      "cell_type": "code",
      "source": [
        "print(x)"
      ],
      "metadata": {
        "colab": {
          "base_uri": "https://localhost:8080/"
        },
        "id": "k4uS4nUC-9OB",
        "outputId": "a2d3ea3f-2a53-491d-b28f-c9c9d4401395"
      },
      "execution_count": 22,
      "outputs": [
        {
          "output_type": "stream",
          "name": "stdout",
          "text": [
            "[['MAHASISWA' '3,17' '2,7' ... '1,75' '0' '2,75']\n",
            " ['MAHASISWA' '3,6' '3,5' ... '2,18' '0' '3,39']\n",
            " ['MAHASISWA' '2,67' '2,66' ... '2,88' '0,5' '2,81']\n",
            " ...\n",
            " ['MAHASISWA' '2,74' '2,75' ... '3,14' '3' '3,03']\n",
            " ['MAHASISWA' '3,02' '2,94' ... '3,09' '3' '3,16']\n",
            " ['MAHASISWA' '3,1' '3,06' ... '2,41' '3' '2,16']]\n"
          ]
        }
      ]
    },
    {
      "cell_type": "code",
      "source": [
        "print(y)"
      ],
      "metadata": {
        "colab": {
          "base_uri": "https://localhost:8080/"
        },
        "id": "9D9eB0vI_CtQ",
        "outputId": "d74b9fa0-99bc-4577-e083-7747cc681b02"
      },
      "execution_count": 23,
      "outputs": [
        {
          "output_type": "stream",
          "name": "stdout",
          "text": [
            "['TEPAT' 'TEPAT' 'TEPAT' 'TEPAT' 'TEPAT' 'TEPAT' 'TEPAT' 'TEPAT' 'TEPAT'\n",
            " 'TEPAT' 'TEPAT' 'TEPAT' 'TEPAT' 'TEPAT' 'TEPAT' 'TEPAT' 'TEPAT' 'TEPAT'\n",
            " 'TEPAT' 'TEPAT' 'TEPAT' 'TEPAT' 'TEPAT' 'TEPAT' 'TEPAT' 'TEPAT' 'TEPAT'\n",
            " 'TEPAT' 'TEPAT' 'TEPAT' 'TEPAT' 'TEPAT' 'TEPAT' 'TEPAT' 'TEPAT' 'TEPAT'\n",
            " 'TEPAT' 'TEPAT' 'TEPAT' 'TEPAT' 'TEPAT' 'TEPAT' 'TEPAT' 'TEPAT' 'TEPAT'\n",
            " 'TEPAT' 'TEPAT' 'TEPAT' 'TEPAT' 'TEPAT' 'TEPAT' 'TEPAT' 'TEPAT' 'TEPAT'\n",
            " 'TEPAT' 'TEPAT' 'TEPAT' 'TEPAT' 'TEPAT' 'TEPAT' 'TEPAT' 'TEPAT' 'TEPAT'\n",
            " 'TEPAT' 'TEPAT' 'TEPAT' 'TEPAT' 'TEPAT' 'TEPAT' 'TEPAT' 'TEPAT' 'TEPAT'\n",
            " 'TEPAT' 'TEPAT' 'TEPAT' 'TEPAT' 'TEPAT' 'TEPAT' 'TEPAT' 'TEPAT' 'TEPAT'\n",
            " 'TEPAT' 'TEPAT' 'TEPAT' 'TEPAT' 'TEPAT' 'TEPAT' 'TEPAT' 'TEPAT' 'TEPAT'\n",
            " 'TEPAT' 'TEPAT' 'TEPAT' 'TEPAT' 'TEPAT' 'TERLAMBAT' 'TEPAT' 'TEPAT'\n",
            " 'TEPAT' 'TEPAT' 'TEPAT' 'TEPAT' 'TEPAT' 'TEPAT' 'TEPAT' 'TEPAT' 'TEPAT'\n",
            " 'TEPAT' 'TEPAT' 'TEPAT' 'TEPAT' 'TEPAT' 'TEPAT' 'TEPAT' 'TEPAT' 'TEPAT'\n",
            " 'TEPAT' 'TEPAT' 'TEPAT' 'TEPAT' 'TEPAT' 'TEPAT' 'TEPAT' 'TEPAT' 'TEPAT'\n",
            " 'TEPAT' 'TEPAT' 'TEPAT' 'TEPAT' 'TEPAT' 'TEPAT' 'TERLAMBAT' 'TEPAT'\n",
            " 'TEPAT' 'TEPAT' 'TEPAT' 'TEPAT' 'TEPAT' 'TEPAT' 'TEPAT' 'TEPAT' 'TEPAT'\n",
            " 'TEPAT' 'TEPAT' 'TEPAT']\n"
          ]
        }
      ]
    },
    {
      "cell_type": "code",
      "source": [
        "from sklearn.impute import SimpleImputer\n",
        "imputer = SimpleImputer(missing_values=np.nan, strategy='mean')\n",
        "imputer.fit(x[:, 1:10])\n",
        "x[:, 1:10] = imputer.transform(x[:, 1:10])"
      ],
      "metadata": {
        "id": "EZ9jg9oR_6ZY"
      },
      "execution_count": null,
      "outputs": []
    },
    {
      "cell_type": "code",
      "source": [
        "print(x)"
      ],
      "metadata": {
        "colab": {
          "base_uri": "https://localhost:8080/"
        },
        "id": "qlT0-ePMBOzd",
        "outputId": "bb25065a-7978-446c-dfce-4b811a1cee1e"
      },
      "execution_count": 32,
      "outputs": [
        {
          "output_type": "stream",
          "name": "stdout",
          "text": [
            "[[0.0 1.0 '3,17' ... '1,75' '0' '2,75']\n",
            " [0.0 1.0 '3,6' ... '2,18' '0' '3,39']\n",
            " [0.0 1.0 '2,67' ... '2,88' '0,5' '2,81']\n",
            " ...\n",
            " [0.0 1.0 '2,74' ... '3,14' '3' '3,03']\n",
            " [0.0 1.0 '3,02' ... '3,09' '3' '3,16']\n",
            " [0.0 1.0 '3,1' ... '2,41' '3' '2,16']]\n"
          ]
        }
      ]
    },
    {
      "cell_type": "code",
      "source": [
        "from sklearn.compose import ColumnTransformer\n",
        "from sklearn.preprocessing import OneHotEncoder\n",
        "ct = ColumnTransformer(transformers=[('encoder', OneHotEncoder(), [0])], remainder='passthrough')\n",
        "x=np.array(ct.fit_transform(x))"
      ],
      "metadata": {
        "id": "mMi31wLrBvZK"
      },
      "execution_count": 28,
      "outputs": []
    },
    {
      "cell_type": "code",
      "source": [
        "print(x)"
      ],
      "metadata": {
        "colab": {
          "base_uri": "https://localhost:8080/"
        },
        "id": "25G66MNTCk2M",
        "outputId": "1e70ff9f-8415-432a-ff76-19acdc8ee0c1"
      },
      "execution_count": 29,
      "outputs": [
        {
          "output_type": "stream",
          "name": "stdout",
          "text": [
            "[[0.0 1.0 '3,17' ... '1,75' '0' '2,75']\n",
            " [0.0 1.0 '3,6' ... '2,18' '0' '3,39']\n",
            " [0.0 1.0 '2,67' ... '2,88' '0,5' '2,81']\n",
            " ...\n",
            " [0.0 1.0 '2,74' ... '3,14' '3' '3,03']\n",
            " [0.0 1.0 '3,02' ... '3,09' '3' '3,16']\n",
            " [0.0 1.0 '3,1' ... '2,41' '3' '2,16']]\n"
          ]
        }
      ]
    },
    {
      "cell_type": "code",
      "source": [
        "from sklearn.preprocessing import LabelEncoder\n",
        "le = LabelEncoder()\n",
        "y = le.fit_transform(y)"
      ],
      "metadata": {
        "id": "6bRAL1l-D2Ox"
      },
      "execution_count": 37,
      "outputs": []
    },
    {
      "cell_type": "code",
      "source": [
        "print(y)"
      ],
      "metadata": {
        "colab": {
          "base_uri": "https://localhost:8080/"
        },
        "id": "DRzE_BmrEGhz",
        "outputId": "981daddd-72b7-4e84-8e95-1c3c41daa15d"
      },
      "execution_count": 38,
      "outputs": [
        {
          "output_type": "stream",
          "name": "stdout",
          "text": [
            "[0 0 0 0 0 0 0 0 0 0 0 0 0 0 0 0 0 0 0 0 0 0 0 0 0 0 0 0 0 0 0 0 0 0 0 0 0\n",
            " 0 0 0 0 0 0 0 0 0 0 0 0 0 0 0 0 0 0 0 0 0 0 0 0 0 0 0 0 0 0 0 0 0 0 0 0 0\n",
            " 0 0 0 0 0 0 0 0 0 0 0 0 0 0 0 0 0 0 0 0 0 1 0 0 0 0 0 0 0 0 0 0 0 0 0 0 0\n",
            " 0 0 0 0 0 0 0 0 0 0 0 0 0 0 0 0 0 0 0 0 1 0 0 0 0 0 0 0 0 0 0 0 0 0]\n"
          ]
        }
      ]
    },
    {
      "cell_type": "code",
      "source": [
        "from sklearn.model_selection import train_test_split\n",
        "x_train, x_test, y_train, y_test = train_test_split(x,y, test_size=0.2, random_state=1)"
      ],
      "metadata": {
        "id": "EiGWvdkfEann"
      },
      "execution_count": 39,
      "outputs": []
    },
    {
      "cell_type": "code",
      "source": [
        "print(x_train)"
      ],
      "metadata": {
        "colab": {
          "base_uri": "https://localhost:8080/"
        },
        "id": "ogTUzb_fE9SS",
        "outputId": "3d2e08eb-c8ef-47a1-efba-d4fd8aafe1a3"
      },
      "execution_count": 40,
      "outputs": [
        {
          "output_type": "stream",
          "name": "stdout",
          "text": [
            "[[0.0 1.0 '2,55' ... '2,34' '1,8' '2,86']\n",
            " [0.0 1.0 '2,95' ... '2,08' '0' '3,1']\n",
            " [0.0 1.0 '3,4' ... '2,03' '0,25' '3,16']\n",
            " ...\n",
            " [0.0 1.0 '2,98' ... '1,19' '0,79' '2,12']\n",
            " [0.0 1.0 '1,98' ... '2,82' '2,5' '0,99']\n",
            " [0.0 1.0 '2,86' ... '2,12' '0' '3,21']]\n"
          ]
        }
      ]
    },
    {
      "cell_type": "code",
      "source": [
        "print(x_test)"
      ],
      "metadata": {
        "colab": {
          "base_uri": "https://localhost:8080/"
        },
        "id": "T47aWnWTFKKf",
        "outputId": "8dff5221-0264-4dae-f3bb-4a983ac4747f"
      },
      "execution_count": 41,
      "outputs": [
        {
          "output_type": "stream",
          "name": "stdout",
          "text": [
            "[[0.0 1.0 '3,21' '3,39' '3,41' '3,43' '3,37' '3,25' '3,16' '0' '3,22']\n",
            " [0.0 1.0 '2,48' '2,32' '2,18' '2,36' '2,32' '2,45' '2,23' '2,1' '2,73']\n",
            " [0.0 1.0 '3,52' '3,46' '3,69' '3,41' '3,4' '0' '0' '0' '3,43']\n",
            " [0.0 1.0 '2,76' '3,18' '3,06' '2,88' '3,34' '3,25' '2,53' '4' '2,92']\n",
            " [0.0 1.0 '2,55' '2,55' '2,59' '3,09' '2,79' '3,63' '2,4' '3,5' '2,99']\n",
            " [0.0 1.0 '3,1' '2,98' '3,17' '3,25' '3,41' '3,08' '3,43' '3' '3,23']\n",
            " [0.0 1.0 '3,52' '3,52' '3,31' '3,33' '3,3' '2,94' '3,46' '0' '3,26']\n",
            " [0.0 1.0 '2,86' '2,86' '3,25' '3,25' '3,31' '3,48' '2,43' '3' '3,28']\n",
            " [0.0 1.0 '3,07' '2,85' '3,2' '3' '3,21' '2,47' '2,55' '2,75' '3,1']\n",
            " [0.0 1.0 '2,55' '2,34' '2,23' '2,36' '1,66' '1,56' '2,14' '2,08' '2,39']\n",
            " [0.0 1.0 '2,74' '2,86' '2,61' '2,95' '2,86' '2,68' '3,16' '2,5' '2,92']\n",
            " [0.0 1.0 '2,74' '2,64' '2,39' '2,82' '2,7' '3,06' '2,7' '3,5' '2,9']\n",
            " [0.0 1.0 '2,93' '2,89' '2,7' '2,77' '2,75' '3' '2,93' '2,5' '3,09']\n",
            " [0.0 1.0 '2,6' '1,93' '2,37' '2,09' '2,41' '2,36' '1,26' '1,6' '2,41']\n",
            " [0.0 1.0 '3,02' '3,42' '3,81' '3,61' '3,35' '3,43' '3,46' '4' '3,49']\n",
            " [0.0 1.0 '3,07' '3,04' '3,1' '3,15' '3' '3,06' '3,43' '0' '2,65']\n",
            " [0.0 1.0 '3' '3,33' '3,27' '2,96' '3,16' '3,12' '2,61' '0' '3,08']\n",
            " [0.0 1.0 '3,48' '3,5' '2,77' '3,59' '3,5' '3,35' '3,27' '0' '3,31']\n",
            " [0.0 1.0 '2,88' '3,25' '3,42' '3,29' '3,33' '2,75' '3' '0' '3,13']\n",
            " [0.0 1.0 '2,33' '2,5' '2,3' '2,59' '2,68' '2,33' '1,28' '1,5' '2,62']\n",
            " [0.0 1.0 '2,98' '3' '2,73' '3' '2,48' '2,75' '2,21' '0' '0,87']\n",
            " [0.0 1.0 '3,57' '3,23' '2,38' '3,59' '3,56' '2,9' '3,73' '3' '3,52']\n",
            " [0.0 1.0 '2,79' '3,05' '3,21' '2,92' '3,41' '2,86' '2,5' '0' '3,04']\n",
            " [0.0 1.0 '2,83' '2,59' '2,95' '3,14' '2,94' '3,14' '3,34' '2,75' '3,02']\n",
            " [0.0 1.0 '2,88' '2,8' '3,11' '3,09' '3,16' '3,05' '3,36' '3' '2,97']\n",
            " [0.0 1.0 '3,05' '3,1' '3,33' '3,17' '3,17' '3,26' '2,33' '3,5' '2,79']\n",
            " [0.0 1.0 '3,02' '2,88' '2,45' '2,14' '3,24' '3,41' '3,2' '4' '3,1']\n",
            " [0.0 1.0 '2,9' '2,84' '2,39' '3,18' '2,85' '3,25' '3,15' '0' '2,82']\n",
            " [0.0 1.0 '3,33' '3,1' '3,27' '3,61' '3,44' '3,4' '2,25' '0' '2,83']]\n"
          ]
        }
      ]
    },
    {
      "cell_type": "code",
      "source": [
        "print(y_train)"
      ],
      "metadata": {
        "colab": {
          "base_uri": "https://localhost:8080/"
        },
        "id": "oIlGt6RvFRc5",
        "outputId": "37776daa-3eaf-4f59-f2c5-13c54390060b"
      },
      "execution_count": 42,
      "outputs": [
        {
          "output_type": "stream",
          "name": "stdout",
          "text": [
            "[0 0 0 0 0 0 0 0 0 0 0 0 0 0 0 0 0 0 0 0 0 0 0 0 0 0 0 0 0 0 0 0 0 0 0 0 0\n",
            " 0 0 0 0 0 0 0 0 1 0 0 0 0 0 0 0 0 0 0 0 0 0 0 0 0 0 0 0 0 0 0 0 0 0 0 0 0\n",
            " 0 1 0 0 0 0 0 0 0 0 0 0 0 0 0 0 0 0 0 0 0 0 0 0 0 0 0 0 0 0 0 0 0 0 0 0 0\n",
            " 0 0 0 0 0]\n"
          ]
        }
      ]
    },
    {
      "cell_type": "code",
      "source": [
        "print(y_test)"
      ],
      "metadata": {
        "colab": {
          "base_uri": "https://localhost:8080/"
        },
        "id": "yJHBUVuIFYEQ",
        "outputId": "f1e71cc9-349a-4695-df0b-b43c8a53ea27"
      },
      "execution_count": 43,
      "outputs": [
        {
          "output_type": "stream",
          "name": "stdout",
          "text": [
            "[0 0 0 0 0 0 0 0 0 0 0 0 0 0 0 0 0 0 0 0 0 0 0 0 0 0 0 0 0]\n"
          ]
        }
      ]
    }
  ]
}